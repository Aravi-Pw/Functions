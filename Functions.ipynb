{
  "nbformat": 4,
  "nbformat_minor": 0,
  "metadata": {
    "colab": {
      "provenance": []
    },
    "kernelspec": {
      "name": "python3",
      "display_name": "Python 3"
    },
    "language_info": {
      "name": "python"
    }
  },
  "cells": [
    {
      "cell_type": "markdown",
      "source": [
        "**Functions**"
      ],
      "metadata": {
        "id": "CwWY3LwU3ETU"
      }
    },
    {
      "cell_type": "markdown",
      "source": [
        "1. What is the difference between a function and a method in Python\n",
        "A function in Python is an independent block of code that performs a specific task and is called directly, while a method is a function that belongs to an object or class and is called on an instance of that class, often using self to access its attributes.\n",
        "\n",
        "2. Explain the concept of function arguments and parameters in Python\n",
        "\n",
        "In Python, parameters are the variables listed in a function’s definition, while arguments are the actual values passed to the function when it is called\n",
        "\n",
        "Python supports different types of arguments and parameters, including:\n",
        "\n",
        "Positional Arguments – Matched by position.\n",
        "Keyword Arguments – Specified by name.\n",
        "\n",
        "3. What are the different ways to define and call a function in Python?\n",
        "In Python, functions can be defined and called in multiple ways. Here are the different methods:\n",
        "\n",
        "Using the def Keyword (Standard Function Definition)\n",
        "Using the def keyword (Standard Function Definition)\n",
        "Lambda functions (Anonymous Functions)\n",
        "Function with default arguments\n",
        "Function with *args (Variable-Length Positional Arguments)\n",
        "Function with **kwargs (Variable-Length Keyword Arguments)\n",
        "Nested functions (Function inside another function)\n",
        "Function as an argument (Higher-Order Function)\n",
        "Returning a function\n",
        "Using functools.partial for partial function application\n",
        "Calling a function using map()\n",
        "Calling a function using apply() (for Pandas)\n",
        "\n",
        "\n",
        "4. What is the purpose of the `return` statement in a Python function\n",
        "\n",
        "The return statement in a Python function is used to send a value (or multiple values) back to the caller. Its main purposes are:\n",
        "\n",
        "Returning a result – Allows the function to pass data back to where it was called.\n",
        "Ending function execution – Immediately stops the function and exits.\n",
        "Returning multiple values – Can return multiple values as a tuple.\n",
        "Returning None – If no return statement is used, the function implicitly returns None.\n",
        "\n",
        "5. What are iterators in Python and how do they differ from iterables\n",
        "\n",
        "1. Iterables\n",
        "An iterable is any Python object that can be looped over (e.g., lists, tuples, dictionaries, strings). It contains data that can be iterated one element at a time using a loop. Iterables implement the __iter__() method, which returns an iterator.\n",
        "\n",
        "2. Iterators\n",
        "An iterator is an object that produces elements from an iterable one at a time when requested. It implements both __iter__() and __next__() methods. Calling next() on an iterator retrieves the next value, and when exhausted, it raises StopIteration.\n",
        "\n",
        "\n",
        "6. Explain the concept of generators in Python and how they are defined?\n",
        "\n",
        "Generators are a special type of iterator in Python that allows you to generate values lazily (one at a time) instead of storing everything in memory. They are useful for handling large data efficiently.\n",
        "\n",
        "Generators are created using functions with the yield keyword instead of return.\n",
        "\n",
        "Characteristics of Generators\n",
        "Use yield instead of return – Pauses function execution and resumes from the same state when called again.\n",
        "Memory Efficient – They don’t store all values in memory; they generate values on demand.\n",
        "Automatically Implements __iter__() and __next__() – No need to define an explicit iterator class.\n",
        "State Retention – The function’s local variables and execution state are remembered between calls.\n",
        "\n",
        "\n",
        "\n",
        "7. What are the advantages of using generators over regular functions?\n",
        "\n",
        "Advantages of Using Generators Over Regular Functions\n",
        "Memory Efficiency – Generators yield values one at a time instead of storing them all in memory, making them ideal for large datasets.\n",
        "\n",
        "Lazy Evaluation – Values are generated only when needed, improving performance and reducing computation overhead.\n",
        "\n",
        "Better Performance – Since generators don’t create entire lists in memory, they are faster for large iterations.\n",
        "\n",
        "State Retention – The function maintains its state between yield calls, allowing iteration without re-initializing variables.\n",
        "\n",
        "Simpler Code for Iterators – No need to manually implement __iter__() and __next__() as in traditional iterators.\n",
        "\n",
        "Support for Infinite Sequences – Generators can produce infinite sequences (e.g., Fibonacci numbers) without consuming infinite memory.\n",
        "\n",
        "\n",
        "8. What is a lambda function in Python and when is it typically used?\n",
        "\n",
        "A lambda function is an anonymous, single-expression function in Python, defined using the lambda keyword. Unlike regular functions defined with def, lambda functions are compact and return the result implicitly.\n",
        "\n",
        "No need for return – The result of the expression is automatically returned.\n",
        "Can have multiple arguments but only one expression.\n",
        "\n",
        "Lambda functions are typically used:\n",
        "\n",
        "For short, simple functions – When a function is small and only used temporarily.\n",
        "As arguments to higher-order functions – Used in map(), filter(), sorted(), and reduce().\n",
        "In sorting and key-based operations – For quick sorting of lists or dictionaries.\n",
        "For inline operations – When defining a full function is unnecessary.\n",
        "\n",
        "\n",
        "9. Explain the purpose and usage of the `map()` function in Python.\n",
        "\n",
        "The map() function is used to apply a function to each item in an iterable (like a list, tuple, etc.) and return an iterator with the transformed values.\n",
        "\n",
        "function – A function that will be applied to each element.\n",
        "iterable – A sequence (like a list, tuple, etc.) to be processed.\n",
        "\n",
        "Used for transforming data without loops\n",
        "Works efficiently with large datasets (returns an iterator instead of storing results in memory)\n",
        "Often used with lambda functions for quick one-liners\n",
        "\n",
        "Returns a map object (iterator), which can be converted into a list or tuple.\n",
        "More efficient than using loops for applying a function to every item in an iterable.\n",
        "Can be used with multiple iterables (if the function supports multiple arguments).\n",
        "\n",
        "\n",
        "10. What is the difference between `map()`, `reduce()`, and `filter()` functions in Python?\n",
        "\n",
        "The map() function applies a given function to each element in an iterable and returns an iterator with the transformed elements. It is useful when you need to modify all elements in a list, such as squaring numbers or converting strings to uppercase.\n",
        "\n",
        "The filter() function selects elements from an iterable based on a condition and returns an iterator with only those elements that satisfy the condition. It is commonly used for filtering data, such as extracting even numbers from a list or removing empty strings.\n",
        "\n",
        "The reduce() function, available in the functools module, applies a function cumulatively to elements in an iterable to produce a single result. It is useful when computing aggregate values, such as summing up all numbers in a list or finding the product of elements.\n",
        "\n",
        "11. attached the image in document"
      ],
      "metadata": {
        "id": "qqtRBBxk3H7G"
      }
    },
    {
      "cell_type": "code",
      "source": [
        "#1. Write a Python function that takes a list of numbers as input and returns the sum of all even numbers in the list.\n",
        "\n",
        "def sum_of_even_numbers(numbers):\n",
        "    return sum(filter(lambda x: x % 2 == 0, numbers))\n",
        "\n",
        "# Example usage\n",
        "numbers = [1, 2, 3, 4, 5, 6, 7, 8, 9, 10]\n",
        "result = sum_of_even_numbers(numbers)\n",
        "print(result)"
      ],
      "metadata": {
        "colab": {
          "base_uri": "https://localhost:8080/"
        },
        "id": "LKU2CVNf9BH2",
        "outputId": "44a369ba-2a85-4cef-9f98-32c5a58d85e6"
      },
      "execution_count": 1,
      "outputs": [
        {
          "output_type": "stream",
          "name": "stdout",
          "text": [
            "30\n"
          ]
        }
      ]
    },
    {
      "cell_type": "code",
      "execution_count": 2,
      "metadata": {
        "colab": {
          "base_uri": "https://localhost:8080/"
        },
        "id": "RE946vic1_05",
        "outputId": "e16fcb49-bdfa-4205-98d8-7c21b14a9d10"
      },
      "outputs": [
        {
          "output_type": "stream",
          "name": "stdout",
          "text": [
            "!dlroW ,olleH\n"
          ]
        }
      ],
      "source": [
        "#2.  Create a Python function that accepts a string and returns the reverse of that string\n",
        "\n",
        "def reverse_string(s):\n",
        "    return s[::-1]\n",
        "\n",
        "# Example usage\n",
        "text = \"Hello, World!\"\n",
        "result = reverse_string(text)\n",
        "print(result)\n"
      ]
    },
    {
      "cell_type": "code",
      "source": [
        "#3.  Implement a Python function that takes a list of integers and returns a new list containing the squares of each number.\n",
        "\n",
        "def square_numbers(numbers):\n",
        "    return [x ** 2 for x in numbers]\n",
        "\n",
        "# Example usage\n",
        "numbers = [1, 2, 3, 4, 5]\n",
        "result = square_numbers(numbers)\n",
        "print(result)"
      ],
      "metadata": {
        "colab": {
          "base_uri": "https://localhost:8080/"
        },
        "id": "Ymu6x2mY9VQB",
        "outputId": "8fe7d8eb-a36a-4675-c79d-1127d9921afb"
      },
      "execution_count": 3,
      "outputs": [
        {
          "output_type": "stream",
          "name": "stdout",
          "text": [
            "[1, 4, 9, 16, 25]\n"
          ]
        }
      ]
    },
    {
      "cell_type": "code",
      "source": [
        "#4. Write a Python function that checks if a given number is prime or not from 1 to 200\n",
        "\n",
        "def is_prime(n):\n",
        "    if n < 2:\n",
        "        return False  # 0 and 1 are not prime numbers\n",
        "    for i in range(2, int(n ** 0.5) + 1):  # Check divisibility up to sqrt(n)\n",
        "        if n % i == 0:\n",
        "            return False\n",
        "    return True\n",
        "\n",
        "# Checking prime numbers from 1 to 200\n",
        "prime_numbers = [n for n in range(1, 201) if is_prime(n)]\n",
        "print(prime_numbers)\n"
      ],
      "metadata": {
        "colab": {
          "base_uri": "https://localhost:8080/"
        },
        "id": "arR7-eVQ9eUF",
        "outputId": "7defc790-4679-4915-ba97-0e207818ceb3"
      },
      "execution_count": 4,
      "outputs": [
        {
          "output_type": "stream",
          "name": "stdout",
          "text": [
            "[2, 3, 5, 7, 11, 13, 17, 19, 23, 29, 31, 37, 41, 43, 47, 53, 59, 61, 67, 71, 73, 79, 83, 89, 97, 101, 103, 107, 109, 113, 127, 131, 137, 139, 149, 151, 157, 163, 167, 173, 179, 181, 191, 193, 197, 199]\n"
          ]
        }
      ]
    },
    {
      "cell_type": "code",
      "source": [
        "# 5. Create an iterator class in Python that generates the Fibonacci sequence up to a specified number of terms.\n",
        "\n",
        "class FibonacciIterator:\n",
        "    def __init__(self, n_terms):\n",
        "        self.n_terms = n_terms  # Number of terms to generate\n",
        "        self.a, self.b = 0, 1   # First two Fibonacci numbers\n",
        "        self.count = 0          # Counter for iteration\n",
        "\n",
        "    def __iter__(self):\n",
        "        return self  # The iterator object itself\n",
        "\n",
        "    def __next__(self):\n",
        "        if self.count >= self.n_terms:\n",
        "            raise StopIteration  # Stop iteration when limit is reached\n",
        "        fib = self.a\n",
        "        self.a, self.b = self.b, self.a + self.b  # Update Fibonacci numbers\n",
        "        self.count += 1\n",
        "        return fib\n",
        "\n",
        "# Example usage\n",
        "fib_iterator = FibonacciIterator(10)\n",
        "for num in fib_iterator:\n",
        "    print(num, end=\" \")\n"
      ],
      "metadata": {
        "colab": {
          "base_uri": "https://localhost:8080/"
        },
        "id": "3dUqjKZ39pMc",
        "outputId": "5e291614-0349-434c-81a2-9bf5a17db6f8"
      },
      "execution_count": 5,
      "outputs": [
        {
          "output_type": "stream",
          "name": "stdout",
          "text": [
            "0 1 1 2 3 5 8 13 21 34 "
          ]
        }
      ]
    },
    {
      "cell_type": "code",
      "source": [
        "#6. Write a generator function in Python that yields the powers of 2 up to a given exponent.\n",
        "\n",
        "def powers_of_two(max_exponent):\n",
        "    for exponent in range(max_exponent + 1):\n",
        "        yield 2 ** exponent  # Yield power of 2\n",
        "\n",
        "# Example usage\n",
        "for power in powers_of_two(5):\n",
        "    print(power, end=\" \")\n"
      ],
      "metadata": {
        "colab": {
          "base_uri": "https://localhost:8080/"
        },
        "id": "dL-VZRmm93hV",
        "outputId": "189934a4-924b-4231-f30e-ffd30f14075f"
      },
      "execution_count": 6,
      "outputs": [
        {
          "output_type": "stream",
          "name": "stdout",
          "text": [
            "1 2 4 8 16 32 "
          ]
        }
      ]
    },
    {
      "cell_type": "code",
      "source": [
        "# 7. Implement a generator function that reads a file line by line and yields each line as a string.\n",
        "\n",
        "def read_file_line_by_line(file_path):\n",
        "    \"\"\"Generator function to read a file line by line.\"\"\"\n",
        "    try:\n",
        "        with open(file_path, 'r', encoding='utf-8') as file:\n",
        "            for line in file:\n",
        "                yield line.strip()  # Yield each line after stripping whitespace\n",
        "    except FileNotFoundError:\n",
        "        print(f\"Error: The file '{file_path}' was not found.\")\n",
        "    except Exception as e:\n",
        "        print(f\"An error occurred: {e}\")\n",
        "\n",
        "# Example usage\n",
        "file_path = \"sample.txt\"  # Replace with the correct file path\n",
        "for line in read_file_line_by_line(file_path):\n",
        "    print(line)  # Prints each line from the file"
      ],
      "metadata": {
        "id": "cqrtC6RZ-A3p"
      },
      "execution_count": 14,
      "outputs": []
    },
    {
      "cell_type": "code",
      "source": [
        "#8. Use a lambda function in Python to sort a list of tuples based on the second element of each tuple\n",
        "\n",
        "# List of tuples\n",
        "data = [(1, 5), (3, 2), (4, 8), (2, 1)]\n",
        "\n",
        "# Sort by the second element using a lambda function\n",
        "sorted_data = sorted(data, key=lambda x: x[1])\n",
        "\n",
        "# Print the sorted list\n",
        "print(sorted_data)"
      ],
      "metadata": {
        "colab": {
          "base_uri": "https://localhost:8080/"
        },
        "id": "GbXiKNNh-I4l",
        "outputId": "76376e89-c52b-4051-a341-b07db1167c15"
      },
      "execution_count": 9,
      "outputs": [
        {
          "output_type": "stream",
          "name": "stdout",
          "text": [
            "[(2, 1), (3, 2), (1, 5), (4, 8)]\n"
          ]
        }
      ]
    },
    {
      "cell_type": "code",
      "source": [
        "#9.  Write a Python program that uses `map()` to convert a list of temperatures from Celsius to Fahrenheit.\n",
        "\n",
        "# Function to convert Celsius to Fahrenheit\n",
        "celsius_to_fahrenheit = lambda c: (c * 9/5) + 32\n",
        "\n",
        "# List of temperatures in Celsius\n",
        "celsius_temperatures = [0, 20, 37, 100]\n",
        "\n",
        "# Convert using map()\n",
        "fahrenheit_temperatures = list(map(celsius_to_fahrenheit, celsius_temperatures))\n",
        "\n",
        "# Print the converted temperatures\n",
        "print(fahrenheit_temperatures)\n"
      ],
      "metadata": {
        "colab": {
          "base_uri": "https://localhost:8080/"
        },
        "id": "PUCieoiM-hR8",
        "outputId": "7ec3c9fd-86ae-42d6-c99b-13efd6cfae70"
      },
      "execution_count": 10,
      "outputs": [
        {
          "output_type": "stream",
          "name": "stdout",
          "text": [
            "[32.0, 68.0, 98.6, 212.0]\n"
          ]
        }
      ]
    },
    {
      "cell_type": "code",
      "source": [
        "#10. Create a Python program that uses `filter()` to remove all the vowels from a given string\n",
        "\n",
        "# Function to check if a character is NOT a vowel\n",
        "remove_vowels = lambda char: char.lower() not in \"aeiou\"\n",
        "\n",
        "# Input string\n",
        "text = \"Hello, World!\"\n",
        "\n",
        "# Use filter() to remove vowels\n",
        "filtered_text = \"\".join(filter(remove_vowels, text))\n",
        "\n",
        "# Print the result\n",
        "print(filtered_text)\n"
      ],
      "metadata": {
        "colab": {
          "base_uri": "https://localhost:8080/"
        },
        "id": "l14Fk9rq-pj-",
        "outputId": "7db0ba7d-c6d5-44f4-8150-370ff93678e4"
      },
      "execution_count": 11,
      "outputs": [
        {
          "output_type": "stream",
          "name": "stdout",
          "text": [
            "Hll, Wrld!\n"
          ]
        }
      ]
    },
    {
      "cell_type": "code",
      "source": [
        "# 11. Imagine an accounting routine used in a book shop. It works on a list with sublists, which look like this:\n",
        "\n",
        "# Order data: (Order Number, Book Title & Author, Quantity, Price per Item)\n",
        "orders = [\n",
        "    (34587, \"Learning Python, Mark Lutz\", 4, 40.95),\n",
        "    (98762, \"Programming Python, Mark Lutz\", 5, 56.8),\n",
        "    (77226, \"Head First Python, Paul Barry\", 3, 32.95),\n",
        "    (88112, \"Einfuhrung in Python3, Brend Klein\", 3, 24.99)\n",
        "]\n",
        "\n",
        "# Lambda function to calculate total price\n",
        "calculate_total = lambda order: (order[0], order[2] * order[3] + (10 if order[2] * order[3] < 100 else 0))\n",
        "\n",
        "# Using map() to apply the lambda function to each order\n",
        "result = list(map(calculate_total, orders))\n",
        "\n",
        "# Print the result\n",
        "print(result)\n"
      ],
      "metadata": {
        "colab": {
          "base_uri": "https://localhost:8080/"
        },
        "id": "tYEEHxvo-4mq",
        "outputId": "5fc23863-0c20-4642-d8e7-efaed6856a1a"
      },
      "execution_count": 12,
      "outputs": [
        {
          "output_type": "stream",
          "name": "stdout",
          "text": [
            "[(34587, 163.8), (98762, 284.0), (77226, 108.85000000000001), (88112, 84.97)]\n"
          ]
        }
      ]
    },
    {
      "cell_type": "code",
      "source": [],
      "metadata": {
        "id": "kDtFjncZ_4FE"
      },
      "execution_count": null,
      "outputs": []
    }
  ]
}